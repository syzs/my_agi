{
 "cells": [
  {
   "cell_type": "markdown",
   "metadata": {},
   "source": [
    "#### 环境搭建\n",
    "docker pull tensorflow/serving\n",
    "\n",
    "git clone https://github.com/tensorflow/serving\n",
    "\n",
    "指定测试数据的地址：serving/tensorflow_serving/servables/tensorflow/testdata\"\n",
    "\n",
    "docker run -t --rm -p 8501:8501 \\\n",
    "    -v \"/Users/shaoyongzhen/code/recommend/serving/tensorflow_serving/servables/tensorflow/testdata/saved_model_half_plus_two_cpu:/models/half_plus_two\" \\\n",
    "    -e MODEL_NAME=half_plus_two \\\n",
    "    tensorflow/serving &\n",
    "\n",
    "\n",
    "curl -d '{\"instances\": [1.0, 2.0, 5.0]}'  -X POST http://localhost:8501/v1/models/half_plus_two:predict\n",
    "\n",
    "Returns => { \"predictions\": [2.5, 3.0, 4.5] }\n",
    "\n",
    "\n"
   ]
  }
 ],
 "metadata": {
  "language_info": {
   "name": "python"
  }
 },
 "nbformat": 4,
 "nbformat_minor": 2
}
