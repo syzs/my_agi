{
 "cells": [
  {
   "cell_type": "markdown",
   "metadata": {},
   "source": [
    "# 💡 这节课会带给你\n",
    "\n",
    "1. Semantic Kernel 的特点和基本用法\n",
    "2. 了解 Semantic Kernel 内置的工具\n",
    "3. 如何用好 SDK 简化基于 LLM 的应用开发\n",
    "\n",
    "开始上课！\n"
   ]
  },
  {
   "cell_type": "markdown",
   "metadata": {},
   "source": [
    "## 🎓 这节课怎么学\n",
    "\n",
    "代码能力要求：**中高**，AI/数学基础要求：**无**\n",
    "\n",
    "1. 有编程基础的同学\n",
    "   - 关注设计模式，实现细节\n",
    "2. 没有编程基础的同学\n",
    "   - 尽量理解 SDK 的概念和价值，尝试体会使用 SDK 前后的差别与意义\n"
   ]
  },
  {
   "cell_type": "markdown",
   "metadata": {},
   "source": [
    "<div class=\"alert alert-danger\">\n",
    "<b>说明：</b>\n",
    "<ol>\n",
    "<li>两天前 SK 发布了一个大版本升级 Python 0.9.0b1，将 Python 版从 dev 升级至 beta。</li>\n",
    "<li>新版本的接口有大量修改</li>\n",
    "    <ul>\n",
    "        <li>官方给出的整体修改总览：https://devblogs.microsoft.com/semantic-kernel/now-in-beta-explore-the-enhanced-python-sdk-for-semantic-kernel/</li>\n",
    "    </ul>\n",
    "<li><b>但目前版本有 BUG 导致若干基础功能跑不通！！！</b></li>\n",
    "    <ul>\n",
    "        <li>例如，已知问题：https://github.com/microsoft/semantic-kernel/issues/5233</li>\n",
    "        <li>本人实测问题远不止这些...</li>\n",
    "    </ul>\n",
    "<li>综上，本期暂时按旧版 0.4 dev 讲解，未来等 beta 版稳定了再讲新版。</li>\n",
    "</ol>\n",
    "<b>建议：</b>\n",
    "    <ol>\n",
    "        <li>本堂课重点关注 SK 的设计思想和与微软生态的整合；</li>\n",
    "        <li>接口细节很快会有较大变化，当前版可以不做为学习重点。</li>\n",
    "    </ol>\n",
    "</div>\n"
   ]
  },
  {
   "cell_type": "markdown",
   "metadata": {},
   "source": [
    "## 1、大语言模型开发框架的价值是什么？\n"
   ]
  },
  {
   "cell_type": "markdown",
   "metadata": {},
   "source": [
    "所有开发框架（SDK）的核心价值，都是降低开发、维护成本。\n",
    "\n",
    "大语言模型开发框架的价值，是让开发者可以更方便地开发基于大语言模型的应用。主要提供两类帮助：\n",
    "\n",
    "1. 第三方能力抽象。比如 LLM、向量数据库、搜索引擎等\n",
    "2. 常用工具、方案封装\n",
    "3. 底层实现封装。比如流式接口、超时重连、异步与并行等\n",
    "\n",
    "好的开发框架，需要具备以下特点：\n",
    "\n",
    "1. 可靠性、鲁棒性\n",
    "2. 可维护性高\n",
    "3. 高内聚、低耦合\n",
    "4. 易用\n",
    "\n",
    "举些通俗的例子：\n",
    "\n",
    "- 与外部功能解依赖\n",
    "  - 比如可以随意更换 LLM 而不用大量重构代码\n",
    "  - 更换三方工具也同理\n",
    "- 经常变的部分要在外部维护而不是放在代码里\n",
    "  - 比如 Prompt 模板\n",
    "- 各种环境下都适用\n",
    "  - 比如线程安全\n",
    "- 方便调试和测试\n",
    "  - 至少要能感觉到用了比不用方便吧\n",
    "  - 合法的输入不会引发框架内部的报错\n",
    "\n",
    "<div class=\"alert alert-success\">\n",
    "<b>划重点：</b>选对了框架，事半功倍；反之，事倍功半。\n",
    "</div>\n"
   ]
  },
  {
   "cell_type": "markdown",
   "metadata": {},
   "source": [
    "## 2、Semantic Kernel\n",
    "\n",
    "「 Semantic Kernel (SK) is a lightweight SDK that lets you easily mix conventional programming languages with the latest in Large Language Model (LLM) AI \"prompts\" with templating, chaining, and planning capabilities out-of-the-box. 」\n",
    "\n",
    "1. Semantic Kernel 是微软研发的一个开源的，面向大模型的开发框架（SDK）；\n",
    "2. 它支持你用不同开发语言（C#/Python/Java）基于 OpenAI API/Azure OpenAI API/Huggingface 开发大模型应用；\n",
    "3. 它封装了一系列开箱即用的工具，包括：提示词模板、链式调用、规划能力等。\n"
   ]
  },
  {
   "cell_type": "markdown",
   "metadata": {},
   "source": [
    "_SDK：Software Development Kit，它是一组软件工具和资源的集合，旨在帮助开发者创建、测试、部署和维护应用程序或软件。_\n"
   ]
  },
  {
   "cell_type": "markdown",
   "metadata": {},
   "source": [
    "<div class=\"alert alert-info\">\n",
    "    \n",
    "<b>什么是 SDK?</b> https://aws.amazon.com/cn/what-is/sdk/\n",
    "<br/>\n",
    "<b>SDK 和 API 的区别是什么?</b> https://aws.amazon.com/cn/compare/the-difference-between-sdk-and-api/\n",
    "</div>\n"
   ]
  },
  {
   "cell_type": "markdown",
   "metadata": {},
   "source": [
    "## 2.1、SK 的开发进展\n"
   ]
  },
  {
   "cell_type": "markdown",
   "metadata": {},
   "source": [
    "1. C# 版最成熟，已开始 1.0.1：https://github.com/microsoft/semantic-kernel\n",
    "2. Python 是 beta 版：https://github.com/microsoft/semantic-kernel\n",
    "3. Java 版 alpha 阶段：https://github.com/microsoft/semantic-kernel/tree/experimental-java\n",
    "4. TypeScript 版……，已经放弃了：https://github.com/microsoft/semantic-kernel/tree/experimental-typescript\n",
    "5. 文档写得特别好，但追不上代码更新速度：\n",
    "   - 更多讲解：https://learn.microsoft.com/en-us/semantic-kernel/overview/\n",
    "   - 更偏实操：https://github.com/microsoft/semantic-kernel/blob/main/python/notebooks/00-getting-started.ipynb\n",
    "   - API Reference (目前只有 C#): https://learn.microsoft.com/en-us/dotnet/api/microsoft.semantickernel?view=semantic-kernel-dotnet\n",
    "6. 更多生态：https://github.com/geffzhang/awesome-semantickernel\n",
    "\n",
    "这里可以了解最新进展：https://learn.microsoft.com/en-us/semantic-kernel/get-started/supported-languages\n",
    "\n",
    "不同语言之间的概念都是相通的。本课程以 Python 版为例。\n"
   ]
  },
  {
   "cell_type": "markdown",
   "metadata": {},
   "source": [
    "## 2.2、SK 的生态位\n"
   ]
  },
  {
   "cell_type": "markdown",
   "metadata": {},
   "source": [
    "微软将此技术栈命名为 Copilot Stack。\n",
    "\n",
    "<img src=\"copilot-stack.png\" alt=\"SK 的生态位\" width=\"400\"/>\n",
    "\n",
    "解释：\n",
    "\n",
    "- Plugin extensibility: 插件扩展\n",
    "- Copilots: AI 助手（副驾驶），例如 GitHub Copilot、Office 365 Copilot、Windows Copilot\n",
    "- AI orchestration: AI 编排，SK 就在这里\n",
    "- Foundation models: 基础大模型，例如 GPT-4\n",
    "- AI infrastructure: AI 基础设施，例如 PyTorch、GPU\n"
   ]
  },
  {
   "cell_type": "markdown",
   "metadata": {},
   "source": [
    "### 怎么理解这个 **AI 编排**\n"
   ]
  },
  {
   "cell_type": "markdown",
   "metadata": {},
   "source": [
    "SK 是个野心勃勃的项目，它希望：\n",
    "\n",
    "1. 让开发者更容易的把 LLM 的能力集成到应用中，像调用函数一样简单\n",
    "2. 让 Prompt 构成的「函数」（Semantic Function，见下文）与原生函数之间，可以很方便的互相嵌套调用\n",
    "3. 让开发者开发的 LLM 能力与应用解耦，高度可复用\n",
    "4. 让开发者能与微软的整个 Copilot 生态紧密结合，互相提供养料\n",
    "\n",
    "请带着这个视角，逐步体会后面所讲的知识。\n"
   ]
  },
  {
   "cell_type": "markdown",
   "metadata": {},
   "source": [
    "## 2.3、SK 基础架构\n"
   ]
  },
  {
   "cell_type": "markdown",
   "metadata": {},
   "source": [
    "<img src=\"mind-and-body-of-semantic-kernel.png\" alt=\"SK 的架构\" width=\"400\"/>\n",
    "\n",
    "解释：\n",
    "\n",
    "- Models and Memory: 类比为大脑\n",
    "- Connectors: 用来连接各种外部服务，类似驱动程序\n",
    "- Plugins: 用来连接内部技能\n",
    "- Triggers and actions: 外部系统的触发器和动作，类比为四肢\n"
   ]
  },
  {
   "cell_type": "markdown",
   "metadata": {},
   "source": [
    "**类比：** Semantic Kernel 用 **Kernel** 命名，是因为它确实像个操作系统 kernel，做核心资源调配，各种资源都可以挂在它上。\n"
   ]
  },
  {
   "cell_type": "markdown",
   "metadata": {},
   "source": [
    "**说明：** Sematic Kernel 通过 **Kernel** 链接 LLM 与 **Functions**（功能）:\n",
    "\n",
    "- Semantic Functions：通过 Prompt 实现的 LLM 能力\n",
    "- Native Functions: 编程语言原生的函数功能\n",
    "\n",
    "在 SK 中，一组 Function 组成一个技能（Skill/Plugin）。要运行 Skill/Plugin，需要有一个配置和管理的单元，这个组织管理单元就是 Kernel。\n",
    "\n",
    "Kernel 负责管理底层接口与调用顺序，例如：OpenAI/Azure OpenAI 的授权信息、默认的 LLM 模型选择、对话上下文、技能参数的传递等等。\n"
   ]
  },
  {
   "cell_type": "markdown",
   "metadata": {},
   "source": [
    "## 3、环境搭建\n"
   ]
  },
  {
   "cell_type": "markdown",
   "metadata": {},
   "source": [
    "1. 安装 Python 3.x：https://www.python.org/downloads/\n",
    "2. 安装 SK 包：`pip install semantic-kernel`\n",
    "3. 在项目目录创建 .env 文件，添加以下内容：\n",
    "\n",
    "```bash\n",
    "# .env\n",
    "OPENAI_API_KEY=\"\"\n",
    "OPENAI_BASE_URL=\"\"\n",
    "AZURE_OPENAI_DEPLOYMENT_NAME=\"\"\n",
    "AZURE_OPENAI_ENDPOINT=\"\"\n",
    "AZURE_OPENAI_API_KEY=\"\"\n",
    "```\n",
    "\n",
    "OpenAI 和 Azure，配置好一个就行。\n"
   ]
  },
  {
   "cell_type": "code",
   "execution_count": null,
   "metadata": {},
   "outputs": [],
   "source": [
    "!pip install semantic-kernel==0.4.0.dev"
   ]
  },
  {
   "cell_type": "markdown",
   "metadata": {},
   "source": [
    "## 3.1、Hello, World!\n"
   ]
  },
  {
   "cell_type": "markdown",
   "metadata": {},
   "source": [
    "这是一个简单示例。\n",
    "\n",
    "第一段代码是初始化。后面所有代码都要在执行过这段代码后，才能执行。\n"
   ]
  },
  {
   "cell_type": "code",
   "execution_count": 1,
   "metadata": {},
   "outputs": [
    {
     "data": {
      "text/plain": [
       "<semantic_kernel.kernel.Kernel at 0x7f9bc195d590>"
      ]
     },
     "execution_count": 1,
     "metadata": {},
     "output_type": "execute_result"
    }
   ],
   "source": [
    "import semantic_kernel as sk\n",
    "from semantic_kernel.connectors.ai.open_ai import OpenAIChatCompletion\n",
    "import os\n",
    "\n",
    "# 加载 .env 到环境变量\n",
    "from dotenv import load_dotenv, find_dotenv\n",
    "_ = load_dotenv(find_dotenv())\n",
    "\n",
    "# 创建 semantic kernel\n",
    "kernel = sk.Kernel()\n",
    "\n",
    "# 配置 OpenAI 服务。OPENAI_BASE_URL 会被自动加载生效\n",
    "api_key = os.getenv('OPENAI_API_KEY')\n",
    "model = OpenAIChatCompletion(\n",
    "    \"gpt-3.5-turbo\",\n",
    "    api_key\n",
    ")\n",
    "\n",
    "# 把 LLM 服务加入 kernel\n",
    "# 可以加多个。第一个加入的会被默认使用，非默认的要被指定使用\n",
    "kernel.add_text_completion_service(\"my-demo\", model)"
   ]
  },
  {
   "cell_type": "markdown",
   "metadata": {},
   "source": [
    "执行讲笑话的 prompt。\n"
   ]
  },
  {
   "cell_type": "code",
   "execution_count": 2,
   "metadata": {},
   "outputs": [
    {
     "name": "stdout",
     "output_type": "stream",
     "text": [
      "为什么Hello World总是第一个程序员学会的程序？\n",
      "\n",
      "因为它是最简单的，就像打招呼一样简单！哈哈哈！\n"
     ]
    }
   ],
   "source": [
    "# 定义 semantic function\n",
    "# 参数由{{ }}标识\n",
    "\n",
    "tell_joke_about = kernel.create_semantic_function(\"给我讲个关于{{$input}}的笑话吧\")\n",
    "\n",
    "# 运行 function 看结果\n",
    "result = await kernel.run_async(\n",
    "    tell_joke_about,\n",
    "    input_str=\"Hello world\"\n",
    ")\n",
    "print(result)"
   ]
  },
  {
   "cell_type": "markdown",
   "metadata": {},
   "source": [
    "**注意**：以上代码是在 Jupyter 笔记运行的形式，如果本地运行，请参考以下形式\n"
   ]
  },
  {
   "cell_type": "markdown",
   "metadata": {},
   "source": [
    "```python\n",
    "import asyncio\n",
    "\n",
    "async def run_function(*args):\n",
    "    return await kernel.invoke(*args)\n",
    "\n",
    "result = asyncio.run(\n",
    "    run_function(tell_joke_about, input_str=\"Hello world\")\n",
    ")\n",
    "```\n"
   ]
  },
  {
   "cell_type": "markdown",
   "metadata": {},
   "source": [
    "<div class=\"alert alert-success\">\n",
    "<b>划重点：</b>\n",
    "用我们熟悉的操作系统来类比，可以更好地理解 SK。\n",
    "<ol>\n",
    "<li>启动操作系统：<code>kernel = sk.Kernel()</code></li>\n",
    "<li>安装驱动程序：<code>kernel.add_xxx_service()</code></li>\n",
    "<li>安装应用程序：<code>func = kernel.create_semantic_function()</code></li>\n",
    "<li>运行应用程序：<code>kernel.invoke(func...)</code></li>\n",
    "</ol>\n",
    "</div>\n",
    "\n",
    "基于 SK 开发的主要工作是写「应用程序」，也就是 Plugins（见下文）\n"
   ]
  },
  {
   "cell_type": "markdown",
   "metadata": {},
   "source": [
    "<div class=\"alert alert-warning\">\n",
    "<b>注意：</b>新版的加载方式将发生变化，详见：https://github.com/microsoft/semantic-kernel/blob/main/python/notebooks/03-prompt-function-inline.ipynb\n",
    "</div>\n"
   ]
  },
  {
   "cell_type": "markdown",
   "metadata": {},
   "source": [
    "### 3.2、Semantic Functions\n"
   ]
  },
  {
   "cell_type": "markdown",
   "metadata": {},
   "source": [
    "Semantic Functions 是纯用数据（Prompt + 配置文件）定义的，不需要编写任何代码。所以它与编程语言无关，可以被任何编程语言调用。\n",
    "\n",
    "一个典型的 semantic function 包含两个文件：\n",
    "\n",
    "- skprompt.txt: 存放 prompt，可以包含参数，还可以调用其它函数\n",
    "- config.json: 存放配置，包括函数功能，参数的数据类型，以及调用大模型时的参数\n",
    "\n",
    "举例：根据用户的自然语言指示，生成 Linux 命令\n"
   ]
  },
  {
   "cell_type": "markdown",
   "metadata": {},
   "source": [
    "### 3.2.1、skprompt.txt\n"
   ]
  },
  {
   "cell_type": "raw",
   "metadata": {},
   "source": [
    "已知数据库结构为：\n",
    "```\n",
    "CREATE TABLE Courses (\n",
    "    id INT AUTO_INCREMENT PRIMARY KEY,\n",
    "    course_date DATE NOT NULL,\n",
    "    start_time TIME NOT NULL,\n",
    "    end_time TIME NOT NULL,\n",
    "    course_name VARCHAR(255) NOT NULL,\n",
    "    instructor VARCHAR(255) NOT NULL\n",
    ");\n",
    "```\n",
    "请将下述用户输入转为SQL表达式\n",
    "用户输入：{{$input}}\n",
    "\n",
    "直接输出SQL语句，不要评论，不要分析，不要Markdown标识!"
   ]
  },
  {
   "cell_type": "markdown",
   "metadata": {},
   "source": [
    "### 3.2.2、config.json\n"
   ]
  },
  {
   "cell_type": "raw",
   "metadata": {},
   "source": [
    "{\n",
    "    \"schema\": 1,\n",
    "    \"type\": \"completion\",\n",
    "    \"description\": \"将用户的输入转换成 SQL 语句\",\n",
    "    \"completion\": {\n",
    "        \"max_tokens\": 256,\n",
    "        \"temperature\": 0,\n",
    "        \"top_p\": 0,\n",
    "        \"presence_penalty\": 0,\n",
    "        \"frequency_penalty\": 0\n",
    "    },\n",
    "    \"input\": {\n",
    "        \"parameters\": [\n",
    "            {\n",
    "                \"name\": \"input\",\n",
    "                \"description\": \"用户的输入\",\n",
    "                \"defaultValue\": \"\"\n",
    "            }\n",
    "        ]\n",
    "    }\n",
    "}"
   ]
  },
  {
   "cell_type": "markdown",
   "metadata": {},
   "source": [
    "说明：\n",
    "\n",
    "- `type` 只有 `\"completion\"` 和 `\"embedding\"` 两种\n"
   ]
  },
  {
   "cell_type": "markdown",
   "metadata": {},
   "source": [
    "上面两个文件都在 [demo/MyPlugins/Text2SQL/](demo/MyPlugins/Text2SQL/) 目录下。\n"
   ]
  },
  {
   "cell_type": "markdown",
   "metadata": {},
   "source": [
    "<div class=\"alert alert-warning\">\n",
    "<b>注意：</b>新版格式将发生变化，详见：https://github.com/microsoft/semantic-kernel/blob/main/python/notebooks/02-running-prompts-from-file.ipynb\n",
    "</div>\n"
   ]
  },
  {
   "cell_type": "markdown",
   "metadata": {},
   "source": [
    "### 3.2.3、调用 Semantic Functions\n"
   ]
  },
  {
   "cell_type": "code",
   "execution_count": 3,
   "metadata": {},
   "outputs": [
    {
     "name": "stdout",
     "output_type": "stream",
     "text": [
      "SELECT * FROM Courses WHERE course_date BETWEEN '2024-04-01' AND '2024-04-30';\n"
     ]
    }
   ],
   "source": [
    "# 加载 semantic function。注意目录结构\n",
    "my_plugins = kernel.import_semantic_skill_from_directory(\n",
    "    \"./demo\", \"MyPlugins\")\n",
    "\n",
    "func = my_plugins[\"Text2SQL\"]\n",
    "\n",
    "# 运行\n",
    "result = await kernel.run_async(\n",
    "    func,\n",
    "    input_str=\"2024年4月有哪些课\",\n",
    ")\n",
    "print(result)"
   ]
  },
  {
   "cell_type": "markdown",
   "metadata": {},
   "source": [
    "### 3.2.4、多个输入变量\n"
   ]
  },
  {
   "cell_type": "markdown",
   "metadata": {},
   "source": [
    "例如我们要维护一个多轮对话，通过 request 和 history 两个变量分别存储 当前输入 和 对话历史\n"
   ]
  },
  {
   "cell_type": "code",
   "execution_count": 4,
   "metadata": {},
   "outputs": [],
   "source": [
    "prompt = \"\"\"对话历史如下:\n",
    "{{$history}}\n",
    "---\n",
    "User: {{$request}}\n",
    "Assistant:  \"\"\""
   ]
  },
  {
   "cell_type": "markdown",
   "metadata": {},
   "source": [
    "<div class=\"alert alert-warning\">\n",
    "<b>注意：</b>实际开发中，将 Prompt 模板以文件形式存储更容易维护。\n",
    "</div>\n"
   ]
  },
  {
   "cell_type": "code",
   "execution_count": 5,
   "metadata": {},
   "outputs": [
    {
     "name": "stdout",
     "output_type": "stream",
     "text": [
      "User >  我叫王卓然\n"
     ]
    },
    {
     "name": "stdout",
     "output_type": "stream",
     "text": [
      "Assistant > 你好，王卓然！有什么可以帮助你的吗？\n"
     ]
    },
    {
     "name": "stdout",
     "output_type": "stream",
     "text": [
      "User >  我是谁\n"
     ]
    },
    {
     "name": "stdout",
     "output_type": "stream",
     "text": [
      "Assistant > 你是王卓然。有什么可以帮助你的吗？\n"
     ]
    },
    {
     "name": "stdout",
     "output_type": "stream",
     "text": [
      "User >  \n"
     ]
    }
   ],
   "source": [
    "history = []\n",
    "\n",
    "while True:\n",
    "    request = input(\"User > \").strip()\n",
    "    if not request:\n",
    "        break\n",
    "\n",
    "    # 通过 ContextVariables 维护多个输入变量\n",
    "    variables = sk.ContextVariables()\n",
    "    variables[\"request\"] = request\n",
    "    variables[\"history\"] = \"\\n\".join(history)\n",
    "\n",
    "    # 运行 prompt\n",
    "    semantic_function = kernel.create_semantic_function(prompt)\n",
    "    result = await kernel.run_async(\n",
    "        semantic_function,\n",
    "        input_vars=variables,  # 注意这里从 input_str 改为 input_vars\n",
    "    )\n",
    "\n",
    "    # 将新的一轮添加到 history 中\n",
    "    history.append(\"User: \" + request)\n",
    "    history.append(\"Assistant: \" + result.result)\n",
    "\n",
    "    print(\"Assistant > \" + result.result)"
   ]
  },
  {
   "cell_type": "markdown",
   "metadata": {},
   "source": [
    "官方提供了一些 Semantic Functions 例子参考：https://github.com/microsoft/semantic-kernel/tree/main/samples/plugins\n"
   ]
  },
  {
   "cell_type": "markdown",
   "metadata": {},
   "source": [
    "<div class=\"alert alert-warning\">\n",
    "<b>注意：</b>新版将引入一个 ChatHistory 类来管理对话上下文，详见：https://github.com/microsoft/semantic-kernel/blob/main/python/notebooks/04-kernel-arguments-chat.ipynb\n",
    "</div>\n"
   ]
  },
  {
   "cell_type": "markdown",
   "metadata": {},
   "source": [
    "### 3.3、Native Functions\n"
   ]
  },
  {
   "cell_type": "markdown",
   "metadata": {},
   "source": [
    "用编程语言写的函数，如果用 SK 的 Native Function 方式定义，就能纳入到 SK 的编排体系，可以被 Planner、其它 plugin 调用。\n",
    "\n",
    "下面，写一个查询数据库的函数。\n",
    "\n",
    "这个函数名是 `query_database`。输入为一个 SQL 表达式\n",
    "\n",
    "它可以放到目录结构中，在 [demo/MyPlugins/DBPlugin.py](demo/MyPlugins/DBPlugin.py) 里加入。\n"
   ]
  },
  {
   "cell_type": "code",
   "execution_count": 6,
   "metadata": {},
   "outputs": [],
   "source": [
    "from semantic_kernel.skill_definition import sk_function\n",
    "\n",
    "\n",
    "class DBConnector:\n",
    "    def __init__(self, db_cursor):\n",
    "        self.db_cursor = db_cursor\n",
    "\n",
    "    @sk_function(\n",
    "        description=\"查询数据库\",  # function 描述\n",
    "        name=\"query_database\",  # function 名字\n",
    "    )\n",
    "    def exec(self, sql_exp: str) -> str:\n",
    "        self.db_cursor.execute(sql_exp)\n",
    "        records = cursor.fetchall()\n",
    "        return str(records)"
   ]
  },
  {
   "cell_type": "code",
   "execution_count": 7,
   "metadata": {},
   "outputs": [],
   "source": [
    "# 定义本地函数和数据库\n",
    "\n",
    "import sqlite3\n",
    "\n",
    "# 创建数据库连接\n",
    "conn = sqlite3.connect(':memory:')\n",
    "cursor = conn.cursor()\n",
    "\n",
    "# 创建orders表\n",
    "cursor.execute(\"\"\"\n",
    "CREATE TABLE Courses (\n",
    "    id INT AUTO_INCREMENT PRIMARY KEY,\n",
    "    course_date DATE NOT NULL,\n",
    "    start_time TIME NOT NULL,\n",
    "    end_time TIME NOT NULL,\n",
    "    course_name VARCHAR(255) NOT NULL,\n",
    "    instructor VARCHAR(255) NOT NULL\n",
    ");\n",
    "\"\"\")\n",
    "\n",
    "# 插入5条明确的模拟记录\n",
    "timetable = [\n",
    "    ('2024-01-23', '20:00', '22:00', '大模型应用开发基础', '孙志岗'),\n",
    "    ('2024-01-25', '20:00', '22:00', 'Prompt Engineering', '孙志岗'),\n",
    "    ('2024-01-29', '20:00', '22:00', '赠课：软件开发基础概念与环境搭建', '西树'),\n",
    "    ('2024-02-20', '20:00', '22:00', '从AI编程认知AI', '林晓鑫'),\n",
    "    ('2024-02-22', '20:00', '22:00', 'Function Calling', '孙志岗'),\n",
    "    ('2024-02-29', '20:00', '22:00', 'RAG和Embeddings', '王卓然'),\n",
    "    ('2024-03-05', '20:00', '22:00', 'Assistants API', '王卓然'),\n",
    "    ('2024-03-07', '20:00', '22:00', 'Semantic Kernel', '王卓然'),\n",
    "    ('2024-03-14', '20:00', '22:00', 'LangChain', '王卓然'),\n",
    "    ('2024-03-19', '20:00', '22:00', 'LLM应用开发工具链', '王卓然'),\n",
    "    ('2024-03-21', '20:00', '22:00', '手撕 AutoGPT', '王卓然'),\n",
    "    ('2024-03-26', '20:00', '22:00', '模型微调（上）', '王卓然'),\n",
    "    ('2024-03-28', '20:00', '22:00', '模型微调（下）', '王卓然'),\n",
    "    ('2024-04-09', '20:00', '22:00', '多模态大模型（上）', '多老师'),\n",
    "    ('2024-04-11', '20:00', '22:00', '多模态大模型（中）', '多老师'),\n",
    "    ('2024-04-16', '20:00', '22:00', '多模态大模型（下）', '多老师'),\n",
    "    ('2024-04-18', '20:00', '22:00', 'AI产品部署和交付（上）', '王树冬'),\n",
    "    ('2024-04-23', '20:00', '22:00', 'AI产品部署和交付（下）', '王树冬'),\n",
    "    ('2024-04-25', '20:00', '22:00', '抓住大模型时代的创业机遇', '孙志岗'),\n",
    "    ('2024-05-07', '20:00', '22:00', '产品运营和业务沟通', '孙志岗'),\n",
    "    ('2024-05-09', '20:00', '22:00', '产品设计', '孙志岗'),\n",
    "    ('2024-05-14', '20:00', '22:00', '项目方案分析与设计', '王卓然'),\n",
    "]\n",
    "\n",
    "for record in timetable:\n",
    "    cursor.execute('''\n",
    "    INSERT INTO Courses (course_date, start_time, end_time, course_name, instructor)\n",
    "    VALUES (?, ?, ?, ?, ?)\n",
    "    ''', record)\n",
    "\n",
    "# 提交事务\n",
    "conn.commit()"
   ]
  },
  {
   "cell_type": "code",
   "execution_count": 8,
   "metadata": {},
   "outputs": [
    {
     "name": "stdout",
     "output_type": "stream",
     "text": [
      "[(9,)]\n"
     ]
    }
   ],
   "source": [
    "# 加载 native function\n",
    "db_connector = kernel.import_skill(DBConnector(cursor), \"DBConnector\")\n",
    "\n",
    "# 看结果\n",
    "result = await kernel.run_async(\n",
    "    db_connector[\"query_database\"],\n",
    "    input_str=\"SELECT COUNT(*) as count FROM Courses WHERE instructor = '王卓然'\",\n",
    ")\n",
    "\n",
    "print(result)"
   ]
  },
  {
   "cell_type": "markdown",
   "metadata": {},
   "source": [
    "<div class=\"alert alert-success\">\n",
    "<b>划重点：</b>在 SK 中，Semantic Function 和 Native Function 被 Kernel 平等对待。\n",
    "</div>\n"
   ]
  },
  {
   "cell_type": "markdown",
   "metadata": {},
   "source": [
    "### 3.4、用 SKContext 实现多参数 Functions\n"
   ]
  },
  {
   "cell_type": "markdown",
   "metadata": {},
   "source": [
    "如果 Function 都只有一个参数，那么只要把参数定义为 `{{$input}}`，就可以按前面的例子来使用，比较直观。`{{$input}}`会默认被赋值。\n",
    "\n",
    "多参数时，就不能用默认机制了，需要定义 `SKContext` 类型的变量。\n"
   ]
  },
  {
   "cell_type": "markdown",
   "metadata": {},
   "source": [
    "### 3.4.1、多参数 Native Function 的写法\n"
   ]
  },
  {
   "cell_type": "code",
   "execution_count": 9,
   "metadata": {},
   "outputs": [],
   "source": [
    "from semantic_kernel.skill_definition import sk_function, sk_function_context_parameter\n",
    "from semantic_kernel.orchestration.sk_context import SKContext\n",
    "\n",
    "\n",
    "class NewDBConnector:\n",
    "    def __init__(self, db_cursor):\n",
    "        self.db_cursor = db_cursor\n",
    "\n",
    "    @sk_function(\n",
    "        description=\"查询数据库\",  # function 描述\n",
    "        name=\"query_database\",  # function 名字\n",
    "    )\n",
    "    @sk_function_context_parameter(\n",
    "        name=\"sql_exp\",\n",
    "        description=\"SQL表达式\",\n",
    "    )\n",
    "    @sk_function_context_parameter(\n",
    "        name=\"output_prefix\",\n",
    "        description=\"输出的文本前缀\",\n",
    "    )\n",
    "    def exec(self, context: SKContext) -> str:\n",
    "        self.db_cursor.execute(context['sql_exp'])\n",
    "        records = cursor.fetchall()\n",
    "        return f\"{context['output_prefix']}: {str(records)}\""
   ]
  },
  {
   "cell_type": "code",
   "execution_count": 10,
   "metadata": {},
   "outputs": [
    {
     "name": "stdout",
     "output_type": "stream",
     "text": [
      "课节数: [(9,)]\n"
     ]
    }
   ],
   "source": [
    "# 加载 native function\n",
    "new_db_connector = kernel.import_skill(\n",
    "    NewDBConnector(cursor), \"NewDBConnector\")\n",
    "\n",
    "\n",
    "# 创建 SKContext\n",
    "context = sk.ContextVariables()\n",
    "\n",
    "# 变量赋值\n",
    "context[\"sql_exp\"] = \"SELECT COUNT(*) as count FROM Courses WHERE instructor = '王卓然'\"\n",
    "context[\"output_prefix\"] = \"课节数\"\n",
    "\n",
    "# 看结果\n",
    "result = await kernel.run_async(\n",
    "    new_db_connector[\"query_database\"],\n",
    "    input_vars=context\n",
    ")\n",
    "print(result)"
   ]
  },
  {
   "cell_type": "markdown",
   "metadata": {},
   "source": [
    "<div class=\"alert alert-warning\">\n",
    "<b>注意：</b>多参数的 Native Function 的写法，在新版中会简化，详见：https://github.com/microsoft/semantic-kernel/blob/main/python/notebooks/08-native-function-inline.ipynb\n",
    "</div>\n"
   ]
  },
  {
   "cell_type": "markdown",
   "metadata": {},
   "source": [
    "### 3.5、Plugins/Skills\n"
   ]
  },
  {
   "cell_type": "markdown",
   "metadata": {},
   "source": [
    "简单说，plugin/skill 就是一组函数的集合。它可以包含两种函数：\n",
    "\n",
    "- Semantic Functions - 语义函数，本质是 Prompt Engineering\n",
    "- Native Functions - 原生函数，类似 OpenAI 的 Function Calling\n",
    "\n",
    "值得一提的是，SK 的 plugin 会和 ChatGPT、Bing、Microsoft 365 通用。「很快」你用 SK 写的 plugin 就可以在这些平台上无缝使用了。这些平台上的 plugin 也可以通过 SK 被你调用。\n",
    "\n",
    "<div class=\"alert alert-warning\">\n",
    "<b>注意：</b>Plugins 最初命名为 Skills，后来改为 Plugins。但是文档中还可能有「Skill」遗留。见到后，就知道两者是一回事就好。\n",
    "</div>\n"
   ]
  },
  {
   "cell_type": "markdown",
   "metadata": {},
   "source": [
    "### 3.5.1、内置 Plugins\n"
   ]
  },
  {
   "cell_type": "markdown",
   "metadata": {},
   "source": [
    "SK 内置了若干好用的 plugin\n",
    "\n",
    "加载方法：\n",
    "\n",
    "```python\n",
    "from semantic_kernel.core_plugins import <PluginName>\n",
    "```\n",
    "\n",
    "它们是：\n",
    "\n",
    "- [`ConversationSummaryPlugin`](https://github.com/microsoft/semantic-kernel/blob/main/python/semantic_kernel/core_plugins/conversation_summary_plugin.py) - 生成对话的摘要\n",
    "- [`HttpPlugin`](https://github.com/microsoft/semantic-kernel/blob/main/python/semantic_kernel/core_plugins/http_plugin.py) - 发出 HTTP 请求，支持 GET、POST、PUT 和 DELETE\n",
    "- [`MathPlugin`](https://github.com/microsoft/semantic-kernel/blob/main/python/semantic_kernel/core_plugins/math_plugin.py) - 加法和减法计算\n",
    "- [`TextMemoryPlugin`](https://github.com/microsoft/semantic-kernel/blob/main/python/semantic_kernel/core_plugins/text_memory_plugin.py) - 保存文本到 memory 中，可以对其做向量检索\n",
    "- [`TextPlugin`](https://github.com/microsoft/semantic-kernel/blob/main/python/semantic_kernel/core_plugins/text_plugin.py) - 把文本全部转为大写或小写，去掉头尾的空格（trim）\n",
    "- [`TimePlugin`](https://github.com/microsoft/semantic-kernel/blob/main/python/semantic_kernel/core_plugins/time_plugin.py) - 获取当前时间及用多种格式获取时间参数\n",
    "- [`WaitPlugin`](https://github.com/microsoft/semantic-kernel/blob/main/python/semantic_kernel/core_plugins/wait_plugin.py) - 等待指定的时间\n",
    "- [`WebSearchEnginePlugin`](https://github.com/microsoft/semantic-kernel/blob/main/python/semantic_kernel/core_plugins/web_search_engine_plugin.py) - 在互联网上搜索给定的文本\n",
    "  ) - 在互联网上搜索给定的文本\n",
    "  osoft/semantic-kernel/blob/main/python/semantic_kernel/core_skills/web_search_engine_skill.py) - 在互联网上搜索给定的文本\n"
   ]
  },
  {
   "cell_type": "markdown",
   "metadata": {},
   "source": [
    "<div class=\"alert alert-warning\">\n",
    "<b>注意：</b>新版叫「plugins」，本课使用的版本还叫「skills」\n",
    "</div>\n"
   ]
  },
  {
   "cell_type": "markdown",
   "metadata": {},
   "source": [
    "## 4、函数的嵌套调用\n"
   ]
  },
  {
   "cell_type": "markdown",
   "metadata": {},
   "source": [
    "### 4.1、Semantic Function 嵌套调用\n"
   ]
  },
  {
   "cell_type": "markdown",
   "metadata": {},
   "source": [
    "SK 允许在 Prompt 模板中直接调用一个函数\n"
   ]
  },
  {
   "cell_type": "code",
   "execution_count": 15,
   "metadata": {},
   "outputs": [],
   "source": [
    "chat_prompt = \"\"\"User 与 Assistant 的对话历史摘要如下:\n",
    "{{ChatHistorySkill.summarize $history}}\n",
    "---\n",
    "User: {{$request}}\n",
    "Assistant:\n",
    "\"\"\""
   ]
  },
  {
   "cell_type": "code",
   "execution_count": 16,
   "metadata": {},
   "outputs": [],
   "source": [
    "summarize_prompt = \"\"\"\n",
    "请将以下 User 与 Assistant 的对话生成一个简短的摘要。\n",
    "确保你的摘要中包含完整的信息。\n",
    "<dialog>\n",
    "{{$history}}\n",
    "</dialog>\n",
    "摘要：\n",
    "\"\"\""
   ]
  },
  {
   "cell_type": "code",
   "execution_count": 17,
   "metadata": {},
   "outputs": [
    {
     "data": {
      "text/plain": [
       "<semantic_kernel.kernel.Kernel at 0x7f9baaa0be90>"
      ]
     },
     "execution_count": 17,
     "metadata": {},
     "output_type": "execute_result"
    }
   ],
   "source": [
    "import semantic_kernel as sk\n",
    "from semantic_kernel.connectors.ai.open_ai import OpenAIChatCompletion\n",
    "import os\n",
    "\n",
    "# 加载 .env 到环境变量\n",
    "from dotenv import load_dotenv, find_dotenv\n",
    "_ = load_dotenv(find_dotenv())\n",
    "\n",
    "# 创建 semantic kernel\n",
    "kernel = sk.Kernel()\n",
    "\n",
    "# 配置 OpenAI 服务。OPENAI_BASE_URL 会被自动加载生效\n",
    "api_key = os.getenv('OPENAI_API_KEY')\n",
    "model = OpenAIChatCompletion(\n",
    "    \"gpt-3.5-turbo\",\n",
    "    api_key\n",
    ")\n",
    "\n",
    "# 把 LLM 服务加入 kernel\n",
    "# 可以加多个。第一个加入的会被默认使用，非默认的要被指定使用\n",
    "kernel.add_text_completion_service(\"my-demo\", model)"
   ]
  },
  {
   "cell_type": "code",
   "execution_count": 18,
   "metadata": {},
   "outputs": [
    {
     "name": "stdout",
     "output_type": "stream",
     "text": [
      "User >  我叫王卓然，是一个程序员\n"
     ]
    },
    {
     "name": "stdout",
     "output_type": "stream",
     "text": [
      "Assistant > 你好，王卓然，很高兴认识你！作为程序员，你喜欢编程方面的工作吗？有什么编程语言是你的专长吗？如果有任何关于编程或者其他方面的问题，都可以向我提问哦！\n"
     ]
    },
    {
     "name": "stdout",
     "output_type": "stream",
     "text": [
      "User >  我是谁\n"
     ]
    },
    {
     "name": "stdout",
     "output_type": "stream",
     "text": [
      "Assistant > 你是王卓然，一个程序员。你喜欢编程工作吗？你擅长哪些编程语言呢？如果有任何关于编程或其他方面的问题，我可以帮助你解答。\n"
     ]
    },
    {
     "name": "stdout",
     "output_type": "stream",
     "text": [
      "User >  \n"
     ]
    }
   ],
   "source": [
    "history = []\n",
    "\n",
    "# 创建 semantic function\n",
    "summarize_function = kernel.create_semantic_function(\n",
    "    summarize_prompt,\n",
    "    function_name=\"summarize\",\n",
    "    skill_name=\"ChatHistorySkill\",\n",
    "    description=\"Summarize a dialogue history\",\n",
    ")\n",
    "\n",
    "# 创建 semantic function\n",
    "chat_function = kernel.create_semantic_function(chat_prompt)\n",
    "\n",
    "\n",
    "while True:\n",
    "    request = input(\"User > \").strip()\n",
    "    if not request:\n",
    "        break\n",
    "\n",
    "    # 通过 ContextVariables 维护多个输入变量\n",
    "    variables = sk.ContextVariables()\n",
    "    variables[\"request\"] = request\n",
    "    variables[\"history\"] = \"\\n\".join(history)\n",
    "\n",
    "    result = await kernel.run_async(\n",
    "        chat_function,\n",
    "        input_vars=variables,  # 注意这里从 input_str 改为 input_vars\n",
    "    )\n",
    "\n",
    "    # 将新的一轮添加到 history 中\n",
    "    history.append(\"User: \" + request)\n",
    "    history.append(\"Assistant: \" + result.result)\n",
    "\n",
    "    print(\"Assistant > \" + result.result)"
   ]
  },
  {
   "cell_type": "markdown",
   "metadata": {},
   "source": [
    "<div class=\"alert alert-success\">\n",
    "在 Prompt 模板中直接调用 Native Function 也可以。\n",
    "</div>\n"
   ]
  },
  {
   "cell_type": "code",
   "execution_count": 19,
   "metadata": {},
   "outputs": [],
   "source": [
    "prompt = \"\"\"\n",
    "已知，数据库形式为\n",
    "CREATE TABLE Courses (\n",
    "    id INT AUTO_INCREMENT PRIMARY KEY,\n",
    "    course_date DATE NOT NULL,\n",
    "    start_time TIME NOT NULL,\n",
    "    end_time TIME NOT NULL,\n",
    "    course_name VARCHAR(255) NOT NULL,\n",
    "    instructor VARCHAR(255) NOT NULL\n",
    ");\n",
    "\n",
    "用自然语言解释用户的SQL查询的意图和查询结果\n",
    "\n",
    "用户输入：{{$input}}\n",
    "\n",
    "查询结果：{{DBConnector.query_database $input}}\n",
    "\"\"\""
   ]
  },
  {
   "cell_type": "code",
   "execution_count": 20,
   "metadata": {},
   "outputs": [
    {
     "name": "stdout",
     "output_type": "stream",
     "text": [
      "用户的SQL查询意图是统计数据库中所有教授为'王卓然'的课程数量。查询结果显示数据库中共有9门由王卓然教授的课程。\n"
     ]
    }
   ],
   "source": [
    "# 加载 native function\n",
    "kernel.import_skill(DBConnector(cursor), \"DBConnector\")\n",
    "\n",
    "# 创建 semantic function\n",
    "semantic_function = kernel.create_semantic_function(prompt)\n",
    "\n",
    "result = await kernel.run_async(\n",
    "    semantic_function,\n",
    "    input_str=\"SELECT COUNT(*) as count FROM Courses WHERE instructor = '王卓然'\"\n",
    ")\n",
    "\n",
    "print(result)"
   ]
  },
  {
   "cell_type": "markdown",
   "metadata": {},
   "source": [
    "<div class=\"alert alert-warning\">\n",
    "<b>注意：</b>新版这里有 BUG，文档说支持嵌套调用，但代码跑不通！！！\n",
    "</div>\n"
   ]
  },
  {
   "cell_type": "markdown",
   "metadata": {},
   "source": [
    "### 4.2、Native Function 嵌套调用（选）\n"
   ]
  },
  {
   "cell_type": "markdown",
   "metadata": {},
   "source": [
    "**注意：** Native Function 的嵌套调用，本质上就是函数嵌套。\n",
    "\n",
    "官方给的写法是在 Kernel 的设计思想下的实现，通过 Kernel 来获取函数并执行，观感上较为晦涩。\n",
    "\n",
    "实际开发中，可以根据个人对 SK 内核与设计理念的理解，自行选择使用以下写法，或使用普通的函数调用的写法。\n"
   ]
  },
  {
   "cell_type": "code",
   "execution_count": 21,
   "metadata": {},
   "outputs": [],
   "source": [
    "prompt = \"\"\"\n",
    "已知，数据库形式为\n",
    "CREATE TABLE Courses (\n",
    "    id INT AUTO_INCREMENT PRIMARY KEY,\n",
    "    course_date DATE NOT NULL,\n",
    "    start_time TIME NOT NULL,\n",
    "    end_time TIME NOT NULL,\n",
    "    course_name VARCHAR(255) NOT NULL,\n",
    "    instructor VARCHAR(255) NOT NULL\n",
    ");\n",
    "\n",
    "用自然语言解释用户的SQL查询的意图和查询结果\n",
    "\n",
    "用户输入：{{$query}}\n",
    "查询结果：{{$output}}\n",
    "\"\"\""
   ]
  },
  {
   "cell_type": "code",
   "execution_count": 22,
   "metadata": {},
   "outputs": [],
   "source": [
    "from semantic_kernel.skill_definition import sk_function, sk_function_context_parameter\n",
    "from semantic_kernel.orchestration.sk_context import SKContext\n",
    "\n",
    "\n",
    "class YetAnotherDBConnector:\n",
    "    def __init__(self, kernel, db_cursor):\n",
    "        self._kernel = kernel\n",
    "        self.db_cursor = db_cursor\n",
    "\n",
    "    @sk_function(\n",
    "        description=\"查询数据库\",  # function 描述\n",
    "        name=\"query_database\",  # function 名字\n",
    "    )\n",
    "    async def exec(self, sql_exp: str) -> str:\n",
    "        self.db_cursor.execute(sql_exp)\n",
    "        records = cursor.fetchall()\n",
    "        semantic_func = self._kernel.skills.get_function(\n",
    "            \"CodeExplainSkill\", \"explain_sql\"\n",
    "        )\n",
    "        context = self._kernel.create_new_context()\n",
    "        context[\"query\"] = sql_exp\n",
    "        context[\"output\"] = str(records)\n",
    "        result = (\n",
    "            await self._kernel.run_async(semantic_func, input_context=context)\n",
    "        )\n",
    "        return result.result"
   ]
  },
  {
   "cell_type": "code",
   "execution_count": 23,
   "metadata": {},
   "outputs": [
    {
     "name": "stdout",
     "output_type": "stream",
     "text": [
      "用户的SQL查询意图是统计数据库中所有教授为'王卓然'的课程数量。查询结果显示数据库中共有9门由王卓然教授的课程。\n"
     ]
    }
   ],
   "source": [
    "# 加载 native function\n",
    "skills = kernel.import_skill(YetAnotherDBConnector(\n",
    "    kernel, cursor), \"YetAnotherDBConnector\")\n",
    "\n",
    "# 加载 semantic function\n",
    "kernel.create_semantic_function(\n",
    "    prompt,\n",
    "    function_name=\"explain_sql\",\n",
    "    skill_name=\"CodeExplainSkill\",\n",
    "    description=\"解释用户的SQL代码\"\n",
    ")\n",
    "\n",
    "result = await kernel.run_async(\n",
    "    skills[\"query_database\"],\n",
    "    input_str=\"SELECT COUNT(*) as count FROM Courses WHERE instructor = '王卓然'\"\n",
    ")\n",
    "\n",
    "print(result)"
   ]
  },
  {
   "cell_type": "markdown",
   "metadata": {},
   "source": [
    "## 5、Memory\n"
   ]
  },
  {
   "cell_type": "markdown",
   "metadata": {},
   "source": [
    "SK 的 memory 使用非常简单：\n",
    "\n",
    "1. 用 `kernel.add_text_embedding_generation_service()` 添加一个文本向量生成服务\n",
    "2. 用 `kernel.register_memory_store()` 注册一个 memory store，可以是内存、文件、向量数据库等\n",
    "3. 用 `kernel.memory.save_information_async()` 保存信息到 memory store\n",
    "4. 用 `kernel.memory.search_async()` 搜索信息\n",
    "\n",
    "使用 ChatALL 的 README.md 做数据，使用内存作为 memory store，我们演示下基于文档对话。\n"
   ]
  },
  {
   "cell_type": "markdown",
   "metadata": {},
   "source": [
    "### 5.1、初始化 Embedding\n"
   ]
  },
  {
   "cell_type": "code",
   "execution_count": 24,
   "metadata": {},
   "outputs": [
    {
     "data": {
      "text/plain": [
       "<semantic_kernel.kernel.Kernel at 0x7f9baaa11b10>"
      ]
     },
     "execution_count": 24,
     "metadata": {},
     "output_type": "execute_result"
    }
   ],
   "source": [
    "import semantic_kernel as sk\n",
    "from semantic_kernel.connectors.ai.open_ai import OpenAIChatCompletion, OpenAITextEmbedding\n",
    "import os\n",
    "\n",
    "# 加载 .env 到环境变量\n",
    "from dotenv import load_dotenv, find_dotenv\n",
    "_ = load_dotenv(find_dotenv())\n",
    "\n",
    "# 创建 semantic kernel\n",
    "kernel = sk.Kernel()\n",
    "\n",
    "# 配置 OpenAI 服务\n",
    "api_key = os.getenv('OPENAI_API_KEY')\n",
    "model = OpenAIChatCompletion(\"gpt-3.5-turbo\", api_key)\n",
    "\n",
    "# 把 LLM 服务加入 kernel\n",
    "# 可以加多个。第一个加入的会被默认使用，非默认的要被指定使用\n",
    "kernel.add_text_completion_service(\"my-gpt3\", model)\n",
    "\n",
    "# 添加 embedding 服务\n",
    "kernel.add_text_embedding_generation_service(\n",
    "    \"ada\", OpenAITextEmbedding(\"text-embedding-ada-002\", api_key))"
   ]
  },
  {
   "cell_type": "markdown",
   "metadata": {},
   "source": [
    "### 5.2、文本向量化\n"
   ]
  },
  {
   "cell_type": "code",
   "execution_count": 25,
   "metadata": {},
   "outputs": [],
   "source": [
    "from semantic_kernel.text import split_markdown_lines\n",
    "\n",
    "# 使用内存做 memory store\n",
    "kernel.register_memory_store(memory_store=sk.memory.VolatileMemoryStore())\n",
    "\n",
    "# 读取文件内容\n",
    "with open('ChatALL.md', 'r') as f:\n",
    "    # with open('sk_samples/SamplePlugin/SamplePlugin.py', 'r') as f:\n",
    "    content = f.read()\n",
    "\n",
    "# 将文件内容分片，单片最大 100 token（注意：SK 的 text split 功能目前对中文支持不如对英文支持得好）\n",
    "lines = split_markdown_lines(content, 100)\n",
    "\n",
    "# 将分片后的内容，存入内存\n",
    "for index, line in enumerate(lines):\n",
    "    await kernel.memory.save_information_async(\"chatall\", id=index, text=line)"
   ]
  },
  {
   "cell_type": "markdown",
   "metadata": {},
   "source": [
    "### 5.3、向量搜索\n"
   ]
  },
  {
   "cell_type": "code",
   "execution_count": 26,
   "metadata": {},
   "outputs": [
    {
     "name": "stdout",
     "output_type": "stream",
     "text": [
      "拥有可以访问这些 AI 的帐号，或 API token。\n",
      "2. 与 AI 网站有可靠的网络连接。\n",
      "\n",
      "## 下载 / 安装\n",
      "\n",
      "从 https://github.com/sunner/ChatALL/releases 下载\n",
      "\n",
      "### Windows 系统\n",
      "\n",
      "直接下载 \\*-win.exe 安装文件并运行之。\n",
      "\n",
      "### macOS 系统\n",
      "\n",
      "对于苹果硅芯片 Mac（M1，M2 CPU），请下载 \\*-mac-arm64.\n"
     ]
    }
   ],
   "source": [
    "result = await kernel.memory.search_async(\"chatall\", \"ChatALL怎么下载？\")\n",
    "print(result[0].text)"
   ]
  },
  {
   "cell_type": "markdown",
   "metadata": {},
   "source": [
    "### 6.4、现在用函数嵌套做一个简单的 RAG\n",
    "\n",
    "例：基于 ChatALL 的说明文档，做问答\n",
    "\n",
    "在自定义的 Semantic Function 中，嵌套调用内置的 `TextMemorySkill`。\n"
   ]
  },
  {
   "cell_type": "code",
   "execution_count": 27,
   "metadata": {},
   "outputs": [
    {
     "name": "stdout",
     "output_type": "stream",
     "text": [
      "从 https://github.com/sunner/ChatALL/releases 下载安装文件，根据你的操作系统选择对应的文件进行下载。对于Windows系统，下载 \\*-win.exe 文件并运行；对于macOS系统，如果是苹果硅芯片Mac（M1，M2 CPU），请下载 \\*-mac-arm64 文件。\n"
     ]
    }
   ],
   "source": [
    "# 导入内置的 `TextMemorySkill`。主要使用它的 `recall()`\n",
    "kernel.import_skill(sk.core_skills.TextMemorySkill())\n",
    "\n",
    "# 直接在代码里创建 semantic function。真实工程不建议这么做\n",
    "# 里面调用了 `recall()`\n",
    "sk_prompt = \"\"\"\n",
    "基于下面的背景信息回答问题。如果背景信息为空，或者和问题不相关，请回答\"我不知道\"。\n",
    "\n",
    "[背景信息开始]\n",
    "{{recall $input}}\n",
    "[背景信息结束]\n",
    "\n",
    "问题：{{$input}}\n",
    "回答：\n",
    "\"\"\"\n",
    "ask = kernel.create_semantic_function(sk_prompt)\n",
    "\n",
    "# 提问\n",
    "context = kernel.create_new_context()\n",
    "# The collection to search for information\n",
    "context[sk.core_skills.TextMemorySkill.COLLECTION_PARAM] = \"chatall\"\n",
    "context[\"input\"] = \"ChatALL 怎么下载？\"\n",
    "\n",
    "result = await kernel.run_async(\n",
    "    ask,\n",
    "    input_context=context,\n",
    ")\n",
    "\n",
    "print(result)"
   ]
  },
  {
   "cell_type": "markdown",
   "metadata": {},
   "source": [
    "### 5.5、连接其它 VectorDB\n",
    "\n",
    "Semantic Kernel 目前已与很多主流的向量数据库做了适配\n",
    "\n",
    "具体参考：https://learn.microsoft.com/en-us/semantic-kernel/memories/vector-db\n"
   ]
  },
  {
   "cell_type": "markdown",
   "metadata": {},
   "source": [
    "<div class=\"alert alert-warning\">\n",
    "<b>注意：</b>新版 RAG 接口有变化，但原理不变还是通过 function 嵌套实现，详见：https://github.com/microsoft/semantic-kernel/blob/main/python/notebooks/06-memory-and-embeddings.ipynb\n",
    "</div>\n"
   ]
  },
  {
   "cell_type": "markdown",
   "metadata": {},
   "source": [
    "## 6、Planner\n"
   ]
  },
  {
   "cell_type": "markdown",
   "metadata": {},
   "source": [
    "SK 的 Planner 目的是 Agent 开发。只封装了几个基本形式，把更多的探索留给了开发者。\n",
    "\n",
    "### 6.1、什么是智能体（Agent）\n",
    "\n",
    "将大语言模型作为一个推理引擎。给定一个任务，智能体自动生成完成任务所需的步骤，执行相应动作（例如选择并调用工具），直到任务完成。\n",
    "\n",
    "这个多步骤的规划过程，就由 **Planner** 完成。\n",
    "\n",
    "<img src=\"agent-overview.png\" style=\"margin-left: 0px\" width=500px>\n",
    "\n",
    "### 6.2、SK Python 提供了四种 Planner：\n",
    "\n",
    "1. `SequentialPlanner`\n",
    "   - 制定包含一系列步骤的计划，这些步骤通过自定义生成的输入和输出变量相互连接\n",
    "   - 核心 https://github.com/microsoft/semantic-kernel/blob/main/python/semantic_kernel/planners/sequential_planner/Plugins/SequentialPlanning/skprompt.txt\n",
    "   - 官方例程：https://github.com/microsoft/semantic-kernel/blob/main/python/samples/kernel-syntax-examples/sequential_planner.py\n",
    "2. `ActionPlanner`\n",
    "   - 类似 OpenAI Function Calling，从 kernel 中已注册的所有 plugin 中找到一个该执行的函数\n",
    "   - 核心 prompt：https://github.com/microsoft/semantic-kernel/blob/main/python/semantic_kernel/planners/action_planner/skprompt.txt\n",
    "   - 官方例程：https://github.com/microsoft/semantic-kernel/blob/main/python/samples/kernel-syntax-examples/action_planner.py\n",
    "3. `StepwisePlanner`\n",
    "   - 每执行完一步，都做一下复盘\n",
    "   - 只输出 action，不执行\n",
    "   - 核心 prompt：https://github.com/microsoft/semantic-kernel/blob/main/python/semantic_kernel/planners/stepwise_planner/Plugins/StepwiseStep/skprompt.txt\n",
    "4. `BasicPlanner`\n",
    "   - **不建议使用**。把任务拆解，自动调用各个函数，完成任务。它只是个用于基础验证的功能，最终会被 `SequentialPlanner` 替代\n",
    "   - 核心 prompt：https://github.com/microsoft/semantic-kernel/blob/main/python/semantic_kernel/planning/basic_planner.py#L27-L123\n",
    "\n",
    "使用 planner 的步骤非常简单：\n",
    "\n",
    "1. 把 plugin 注册到 kernel\n",
    "2. 把 kernel 当参数实例化某个 planner\n",
    "3. 调用 planner 的 `create_plan_async()` 方法获得 plan\n",
    "4. 调用 plan 的 `invoke_async()` 方法执行 plan\n",
    "\n",
    "(注意，不同 planner 接口并不一致，不能简单平替)\n"
   ]
  },
  {
   "cell_type": "markdown",
   "metadata": {},
   "source": [
    "<div class=\"alert alert-warning\">\n",
    "<b>注意：</b>新版教程详见：https://github.com/microsoft/semantic-kernel/blob/main/python/notebooks/05-using-the-planner.ipynb\n",
    "</div>\n"
   ]
  },
  {
   "cell_type": "markdown",
   "metadata": {},
   "source": [
    "### 6.3、用 Planner 实现一个能使用搜索和日历工具的 Agent\n",
    "\n",
    "例：周杰伦的生日是星期几\n"
   ]
  },
  {
   "cell_type": "code",
   "execution_count": 28,
   "metadata": {
    "scrolled": true
   },
   "outputs": [
    {
     "data": {
      "text/plain": [
       "<semantic_kernel.kernel.Kernel at 0x7f9baa8e8290>"
      ]
     },
     "execution_count": 28,
     "metadata": {},
     "output_type": "execute_result"
    }
   ],
   "source": [
    "from semantic_kernel.core_skills import WebSearchEngineSkill\n",
    "from semantic_kernel.connectors.search_engine import BingConnector\n",
    "from semantic_kernel.planning import SequentialPlanner\n",
    "import semantic_kernel as sk\n",
    "from semantic_kernel.connectors.ai.open_ai import OpenAIChatCompletion\n",
    "import os\n",
    "\n",
    "# 加载 .env 到环境变量\n",
    "from dotenv import load_dotenv, find_dotenv\n",
    "_ = load_dotenv(find_dotenv())\n",
    "\n",
    "# 创建 semantic kernel\n",
    "kernel = sk.Kernel()\n",
    "\n",
    "# 配置 OpenAI 服务\n",
    "api_key = os.getenv('OPENAI_API_KEY')\n",
    "model = OpenAIChatCompletion(\"gpt-4\", api_key)\n",
    "\n",
    "# 把 LLM 服务加入 kernel\n",
    "# 可以加多个。第一个加入的会被默认使用，非默认的要被指定使用\n",
    "kernel.add_text_completion_service(\"my-gpt4\", model)"
   ]
  },
  {
   "cell_type": "code",
   "execution_count": 29,
   "metadata": {},
   "outputs": [],
   "source": [
    "import calendar\n",
    "import dateutil.parser as parser\n",
    "from datetime import date\n",
    "\n",
    "\n",
    "class DayOfWeek:\n",
    "    @sk_function(\n",
    "        description=\"计算输入日期是星期几\",\n",
    "        name=\"weekday\",\n",
    "    )\n",
    "    def weekday(self, date_str: str) -> str:\n",
    "        \"\"\"Convert date to weekday name\"\"\"\n",
    "        d = parser.parse(date_str)\n",
    "        return calendar.day_name[d.weekday()]"
   ]
  },
  {
   "cell_type": "code",
   "execution_count": 30,
   "metadata": {},
   "outputs": [
    {
     "data": {
      "text/plain": [
       "<semantic_kernel.orchestration.sk_function.SKFunction at 0x7f9baa901ed0>"
      ]
     },
     "execution_count": 30,
     "metadata": {},
     "output_type": "execute_result"
    }
   ],
   "source": [
    "sk_prompt = \"\"\"\n",
    "抽取下述输入文本中第一个出现的日期。\n",
    "\n",
    "---输入文本开始---\n",
    "{{$input}}\n",
    "---输入文本结束---\n",
    "\n",
    "以YYYY-MM-DD格式输出日期。\n",
    "不要评论，不要分析，直接给出答案。\n",
    "\"\"\"\n",
    "kernel.create_semantic_function(\n",
    "    sk_prompt,\n",
    "    function_name=\"parseDate\",\n",
    "    skill_name=\"DateParser\",\n",
    "    description=\"抽取输入文本中的日期\"\n",
    ")"
   ]
  },
  {
   "cell_type": "markdown",
   "metadata": {},
   "source": [
    "关于如何注册 BING API KEY ：[BING API KEY](https://agiclass.feishu.cn/wiki/JKV7wXM7IiXJFmk3ktgca1tfnfR)\n"
   ]
  },
  {
   "cell_type": "code",
   "execution_count": 31,
   "metadata": {},
   "outputs": [
    {
     "data": {
      "text/plain": [
       "{'weekday': <semantic_kernel.orchestration.sk_function.SKFunction at 0x7f9baa01dd90>}"
      ]
     },
     "execution_count": 31,
     "metadata": {},
     "output_type": "execute_result"
    }
   ],
   "source": [
    "# 导入搜索 plugin\n",
    "connector = BingConnector(api_key=os.getenv(\"BING_API_KEY\"))\n",
    "kernel.import_skill(WebSearchEngineSkill(connector), \"WebSearch\")\n",
    "\n",
    "kernel.import_skill(\n",
    "    DayOfWeek(), \"DayOfWeek\"\n",
    ")"
   ]
  },
  {
   "cell_type": "code",
   "execution_count": 32,
   "metadata": {},
   "outputs": [
    {
     "name": "stdout",
     "output_type": "stream",
     "text": [
      "Step: 0\n",
      "Description: Performs a web search for a given query\n",
      "Function: WebSearch.searchAsync\n",
      "  Output:\n",
      " ['周杰伦（Jay Chou），1979年1月18日出生于台湾省新北市，祖籍福建省泉州市永春县，华语流行乐男歌手、音乐人、演员、导演、编剧，毕业于淡江中学。2000年，发行个人首张音乐专辑《Jay》。2001年，凭借专辑《范特西》奠定其融合中西方音乐的风格。2002年，举行“The One”世界巡回演唱会。']\n",
      "Step: 1\n",
      "Description: 抽取输入文本中的日期\n",
      "Function: DateParser.parseDate\n",
      "  Output:\n",
      " 1979-01-18\n",
      "Step: 2\n",
      "Description: 计算输入日期是星期几\n",
      "Function: DayOfWeek.weekday\n",
      "  Output:\n",
      " Thursday\n",
      "Thursday\n"
     ]
    }
   ],
   "source": [
    "# 创建 planner\n",
    "planner = SequentialPlanner(kernel)\n",
    "\n",
    "# 开始\n",
    "query = \"周杰伦的生日星期几？\"\n",
    "plan = await planner.create_plan_async(goal=query)\n",
    "\n",
    "result = await plan.invoke_async()\n",
    "\n",
    "# 打印步骤用来调试\n",
    "for index, step in enumerate(plan._steps):\n",
    "    print(\"Step:\", index)\n",
    "    print(\"Description:\", step.description)\n",
    "    print(\"Function:\", step.skill_name + \".\" + step._function.name)\n",
    "    if len(step._outputs) > 0:\n",
    "        print(\"  Output:\\n\", str.replace(\n",
    "            result[step._outputs[0]], \"\\n\", \"\\n  \"))\n",
    "\n",
    "\n",
    "print(result)"
   ]
  },
  {
   "cell_type": "markdown",
   "metadata": {},
   "source": [
    "## 7、VS Code 插件\n",
    "\n",
    "这是个 VS Code 的插件，在 VS Code 里可以直接创建和调试 Semantic Function。\n",
    "\n",
    "安装地址：https://marketplace.visualstudio.com/items?itemName=ms-semantic-kernel.semantic-kernel\n"
   ]
  },
  {
   "cell_type": "markdown",
   "metadata": {},
   "source": [
    "## 8、Semantic Kernel 对新版 Assistants API 的支持计划\n",
    "\n",
    "当前进展：\n",
    "\n",
    "- C#版实验性支持：https://github.com/microsoft/semantic-kernel/releases\n",
    "\n",
    "虽然 Assistants API 原生的管理了一切\n",
    "\n",
    "但官方宣称，Semantic Kernel 将在以下方面提供附加价值：\n",
    "\n",
    "1. 简化的 Function Calling（本质是将 function 调用和结果回传封装在 pipeline 中）\n",
    "2. 实现更复杂的多步 plan（条件分支、循环、变量传递等）\n",
    "3. 多 LLM 整合，例如 GPT-3.5 用于简单功能、GPT-4 用于最终回复等\n",
    "4. 更可控（自定义）的 Memory 引擎\n",
    "5. 更多的可视化及监控机制\n",
    "\n",
    "原文：https://devblogs.microsoft.com/semantic-kernel/assistants-the-future-of-semantic-kernel/\n",
    "\n",
    "<div class=\"alert alert-warning\">\n",
    "<b>思考：</b>1-4本质就是自定义的过程的封装，由此再次体会 SDK 的价值\n",
    "</div>\n"
   ]
  },
  {
   "cell_type": "markdown",
   "metadata": {},
   "source": [
    "## 总结\n",
    "\n",
    "1. 我是否应该使用开发框架？\n",
    "2. 什么情况下选择 SK ？\n",
    "\n",
    "- 如果你经常需要替换不同 LLM 或有大量的 Prompt 调试需求，选择一个开发框架会让生活更容易\n",
    "- 如果你的 Prompt 里有大量嵌套调用\n",
    "- 如果你必须使用 C#/JAVA 技术栈，SK 可能是目前唯一的选择\n",
    "- 如果你用 Python 技术栈，可以对比一下 LangChain 再做取舍（下节课细讲）\n"
   ]
  },
  {
   "cell_type": "markdown",
   "metadata": {},
   "source": [
    "## 作业\n"
   ]
  },
  {
   "cell_type": "markdown",
   "metadata": {},
   "source": [
    "用 Semantic Kernel 重构 ChatPDF 的作业。\n"
   ]
  }
 ],
 "metadata": {
  "celltoolbar": "Raw Cell Format",
  "kernelspec": {
   "display_name": "Python 3 (ipykernel)",
   "language": "python",
   "name": "python3"
  },
  "language_info": {
   "codemirror_mode": {
    "name": "ipython",
    "version": 3
   },
   "file_extension": ".py",
   "mimetype": "text/x-python",
   "name": "python",
   "nbconvert_exporter": "python",
   "pygments_lexer": "ipython3",
   "version": "3.11.8"
  }
 },
 "nbformat": 4,
 "nbformat_minor": 4
}
