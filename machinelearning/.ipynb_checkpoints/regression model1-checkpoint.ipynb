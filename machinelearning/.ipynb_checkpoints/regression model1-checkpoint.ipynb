{
 "cells": [
  {
   "cell_type": "code",
   "execution_count": 48,
   "id": "d665dda8",
   "metadata": {},
   "outputs": [],
   "source": [
    "import numpy as np"
   ]
  },
  {
   "cell_type": "code",
   "execution_count": 49,
   "id": "6bcf14b8",
   "metadata": {},
   "outputs": [],
   "source": [
    "import matplotlib.pyplot as plt"
   ]
  },
  {
   "cell_type": "code",
   "execution_count": 50,
   "id": "8eedbe9c",
   "metadata": {},
   "outputs": [],
   "source": [
    "x_train = np.array([1.0, 2.0])"
   ]
  },
  {
   "cell_type": "code",
   "execution_count": 51,
   "id": "5e3ea014",
   "metadata": {},
   "outputs": [],
   "source": [
    "y_train = np.array([300.0,500.0])"
   ]
  },
  {
   "cell_type": "code",
   "execution_count": 52,
   "id": "9dfacec4",
   "metadata": {},
   "outputs": [
    {
     "name": "stdout",
     "output_type": "stream",
     "text": [
      "x_train = [1. 2.]\n"
     ]
    }
   ],
   "source": [
    "print(f\"x_train = {x_train}\")"
   ]
  },
  {
   "cell_type": "code",
   "execution_count": 53,
   "id": "ee916ea5",
   "metadata": {},
   "outputs": [
    {
     "name": "stdout",
     "output_type": "stream",
     "text": [
      "y_train = [300. 500.]\n"
     ]
    }
   ],
   "source": [
    "print(f'y_train = {y_train}')"
   ]
  },
  {
   "cell_type": "code",
   "execution_count": 54,
   "id": "7a488a5a",
   "metadata": {},
   "outputs": [
    {
     "name": "stdout",
     "output_type": "stream",
     "text": [
      "x_train.shape: (2,)\n"
     ]
    }
   ],
   "source": [
    "print(f\"x_train.shape: {x_train.shape}\")"
   ]
  },
  {
   "cell_type": "code",
   "execution_count": 55,
   "id": "72a78e24",
   "metadata": {},
   "outputs": [],
   "source": [
    "m = x_train.shape[0]"
   ]
  },
  {
   "cell_type": "code",
   "execution_count": 56,
   "id": "5e857fd1",
   "metadata": {},
   "outputs": [
    {
     "name": "stdout",
     "output_type": "stream",
     "text": [
      "number of training example is: 2\n"
     ]
    }
   ],
   "source": [
    "print(f\"number of training example is: {m}\")"
   ]
  },
  {
   "cell_type": "code",
   "execution_count": 57,
   "id": "03ce225d",
   "metadata": {},
   "outputs": [],
   "source": [
    "m = len(x_train)"
   ]
  },
  {
   "cell_type": "code",
   "execution_count": 58,
   "id": "19997283",
   "metadata": {},
   "outputs": [
    {
     "name": "stdout",
     "output_type": "stream",
     "text": [
      "Number of training example is: 2\n"
     ]
    }
   ],
   "source": [
    "print(f\"Number of training example is: {m}\")"
   ]
  },
  {
   "cell_type": "code",
   "execution_count": 59,
   "id": "46961c7a",
   "metadata": {},
   "outputs": [],
   "source": [
    "i = 0"
   ]
  },
  {
   "cell_type": "code",
   "execution_count": 60,
   "id": "556c9183",
   "metadata": {},
   "outputs": [],
   "source": [
    "x_i = x_train[i]"
   ]
  },
  {
   "cell_type": "code",
   "execution_count": 61,
   "id": "7ba57b19",
   "metadata": {},
   "outputs": [],
   "source": [
    "y_i = y_train[i]"
   ]
  },
  {
   "cell_type": "code",
   "execution_count": 62,
   "id": "011ec178",
   "metadata": {},
   "outputs": [
    {
     "name": "stdout",
     "output_type": "stream",
     "text": [
      "(x^(0), y^(0)) = (1.0, 300.0)\n"
     ]
    }
   ],
   "source": [
    "print(f'(x^({i}), y^({i})) = ({x_i}, {y_i})')"
   ]
  },
  {
   "cell_type": "code",
   "execution_count": 63,
   "id": "08c7975f",
   "metadata": {},
   "outputs": [
    {
     "data": {
      "text/plain": [
       "<matplotlib.collections.PathCollection at 0x12242d730>"
      ]
     },
     "execution_count": 63,
     "metadata": {},
     "output_type": "execute_result"
    },
    {
     "data": {
      "image/png": "[encoded data removed]",
      "text/plain": [
       "<Figure size 432x288 with 1 Axes>"
      ]
     },
     "metadata": {
      "needs_background": "light"
     },
     "output_type": "display_data"
    }
   ],
   "source": [
    "plt.scatter(x_train, y_train, marker='x', c='r')"
   ]
  },
  {
   "cell_type": "code",
   "execution_count": 64,
   "id": "9b6c35bf",
   "metadata": {},
   "outputs": [
    {
     "data": {
      "text/plain": [
       "Text(0.5, 1.0, 'housing prices')"
      ]
     },
     "execution_count": 64,
     "metadata": {},
     "output_type": "execute_result"
    },
    {
     "data": {
      "image/png": "[encoded data removed]",
      "text/plain": [
       "<Figure size 432x288 with 1 Axes>"
      ]
     },
     "metadata": {
      "needs_background": "light"
     },
     "output_type": "display_data"
    }
   ],
   "source": [
    "plt.title(\"housing prices\")"
   ]
  },
  {
   "cell_type": "code",
   "execution_count": 65,
   "id": "dbcbe044",
   "metadata": {},
   "outputs": [
    {
     "data": {
      "text/plain": [
       "Text(0, 0.5, 'Price (in 1000s of dollars)')"
      ]
     },
     "execution_count": 65,
     "metadata": {},
     "output_type": "execute_result"
    },
    {
     "data": {
      "image/png": "[encoded data removed]",
      "text/plain": [
       "<Figure size 432x288 with 1 Axes>"
      ]
     },
     "metadata": {
      "needs_background": "light"
     },
     "output_type": "display_data"
    }
   ],
   "source": [
    "plt.ylabel('Price (in 1000s of dollars)')"
   ]
  },
  {
   "cell_type": "code",
   "execution_count": 66,
   "id": "c37db002",
   "metadata": {},
   "outputs": [
    {
     "data": {
      "text/plain": [
       "Text(0.5, 0, 'Size (1000 sqft)')"
      ]
     },
     "execution_count": 66,
     "metadata": {},
     "output_type": "execute_result"
    },
    {
     "data": {
      "image/png": "[encoded data removed]",
      "text/plain": [
       "<Figure size 432x288 with 1 Axes>"
      ]
     },
     "metadata": {
      "needs_background": "light"
     },
     "output_type": "display_data"
    }
   ],
   "source": [
    "plt.xlabel('Size (1000 sqft)')"
   ]
  },
  {
   "cell_type": "code",
   "execution_count": 67,
   "id": "5d6dec6c",
   "metadata": {},
   "outputs": [],
   "source": [
    "plt.show()"
   ]
  },
  {
   "cell_type": "code",
   "execution_count": 68,
   "id": "58e6fc2d",
   "metadata": {},
   "outputs": [],
   "source": [
    "w,b = 100,100"
   ]
  },
  {
   "cell_type": "code",
   "execution_count": 69,
   "id": "25fb19a3",
   "metadata": {},
   "outputs": [
    {
     "ename": "SyntaxError",
     "evalue": "unexpected EOF while parsing (<ipython-input-69-00bb04b70619>, line 1)",
     "output_type": "error",
     "traceback": [
      "\u001b[0;36m  File \u001b[0;32m\"<ipython-input-69-00bb04b70619>\"\u001b[0;36m, line \u001b[0;32m1\u001b[0m\n\u001b[0;31m    def compute_model_output(x, w, b):\u001b[0m\n\u001b[0m                                      ^\u001b[0m\n\u001b[0;31mSyntaxError\u001b[0m\u001b[0;31m:\u001b[0m unexpected EOF while parsing\n"
     ]
    }
   ],
   "source": [
    "def compute_model_output(x, w, b):"
   ]
  },
  {
   "cell_type": "code",
   "execution_count": null,
   "id": "359bb243",
   "metadata": {},
   "outputs": [],
   "source": [
    "    m = x.shape[0]"
   ]
  },
  {
   "cell_type": "code",
   "execution_count": null,
   "id": "a53c0326",
   "metadata": {},
   "outputs": [],
   "source": [
    "    f_wb = np.zeros(m)"
   ]
  },
  {
   "cell_type": "code",
   "execution_count": null,
   "id": "e939197a",
   "metadata": {},
   "outputs": [],
   "source": [
    "    print(f'np.zeros = {f_wb}')"
   ]
  },
  {
   "cell_type": "code",
   "execution_count": null,
   "id": "be882e00",
   "metadata": {},
   "outputs": [],
   "source": [
    "    for in in range(m):"
   ]
  },
  {
   "cell_type": "code",
   "execution_count": null,
   "id": "edeeacc8",
   "metadata": {},
   "outputs": [],
   "source": [
    "        f_wb[i] = w*x[i] + b "
   ]
  },
  {
   "cell_type": "code",
   "execution_count": null,
   "id": "693e5f81",
   "metadata": {},
   "outputs": [],
   "source": [
    "    return f_wb"
   ]
  },
  {
   "cell_type": "code",
   "execution_count": null,
   "id": "b9cd44f8",
   "metadata": {},
   "outputs": [],
   "source": [
    "print(f'w={w}, b={b}')"
   ]
  },
  {
   "cell_type": "code",
   "execution_count": null,
   "id": "8c15e1a4",
   "metadata": {},
   "outputs": [],
   "source": [
    "tmp_f_wb = compute_model_output(x_train, w,b)"
   ]
  },
  {
   "cell_type": "code",
   "execution_count": null,
   "id": "7444b1dc",
   "metadata": {},
   "outputs": [],
   "source": []
  }
 ],
 "metadata": {
  "kernelspec": {
   "display_name": "Python 3",
   "language": "python",
   "name": "python3"
  },
  "language_info": {
   "codemirror_mode": {
    "name": "ipython",
    "version": 3
   },
   "file_extension": ".py",
   "mimetype": "text/x-python",
   "name": "python",
   "nbconvert_exporter": "python",
   "pygments_lexer": "ipython3",
   "version": "3.8.8"
  }
 },
 "nbformat": 4,
 "nbformat_minor": 5
}
